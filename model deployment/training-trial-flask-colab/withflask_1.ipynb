{
  "cells": [
    {
      "cell_type": "markdown",
      "metadata": {
        "id": "7e2172ff-d4ac-43e1-be3c-445e2a1dd783"
      },
      "source": [
        "### import packages"
      ]
    },
    {
      "cell_type": "code",
      "execution_count": 1,
      "metadata": {
        "id": "92a3b12a-94ce-4313-877f-d92443b3339f"
      },
      "outputs": [],
      "source": [
        "import keras"
      ]
    },
    {
      "cell_type": "code",
      "execution_count": 13,
      "metadata": {
        "id": "1c79fd42-e20b-4bf2-a22f-f6db34e2067a"
      },
      "outputs": [],
      "source": [
        "from keras.datasets import mnist\n",
        "\n",
        "from keras import backend as K\n",
        "\n",
        "from keras.models import Sequential\n",
        "from keras.layers import Dense, Dropout, Flatten, Conv2D, MaxPooling2D\n",
        "from keras.utils import np_utils"
      ]
    },
    {
      "cell_type": "markdown",
      "metadata": {
        "id": "5aae9ea6-d652-4fc2-8083-0a34de7c6217"
      },
      "source": [
        "### hyperparameters"
      ]
    },
    {
      "cell_type": "code",
      "execution_count": 3,
      "metadata": {
        "id": "c333854b-1df3-48fd-9a94-d0918a3d34e3"
      },
      "outputs": [],
      "source": [
        "num_classes = 10\n",
        "batch_size = 128\n",
        "epochs = 12"
      ]
    },
    {
      "cell_type": "markdown",
      "metadata": {
        "id": "df588b4f-e9ef-4875-b361-b950a57717f9"
      },
      "source": [
        "### image properties"
      ]
    },
    {
      "cell_type": "code",
      "execution_count": 4,
      "metadata": {
        "id": "9456e0ab-25af-41e1-b9d2-c16716ccdb6c"
      },
      "outputs": [],
      "source": [
        "img_rows = 28\n",
        "img_cols = 28"
      ]
    },
    {
      "cell_type": "markdown",
      "metadata": {
        "id": "ae43ecfd-2d2b-4541-890a-35eabb83ce31"
      },
      "source": [
        "### load the datasets"
      ]
    },
    {
      "cell_type": "code",
      "execution_count": 5,
      "metadata": {
        "colab": {
          "base_uri": "https://localhost:8080/"
        },
        "id": "1b8f1d7b-b3b8-4e02-895f-ef575f944fa3",
        "outputId": "feb4e8da-1119-465d-f61a-c9054e1337e6"
      },
      "outputs": [
        {
          "name": "stdout",
          "output_type": "stream",
          "text": [
            "Downloading data from https://storage.googleapis.com/tensorflow/tf-keras-datasets/mnist.npz\n",
            "11493376/11490434 [==============================] - 0s 0us/step\n",
            "11501568/11490434 [==============================] - 0s 0us/step\n"
          ]
        }
      ],
      "source": [
        "(X_train, y_train), (X_test, y_test) = mnist.load_data()"
      ]
    },
    {
      "cell_type": "code",
      "execution_count": 6,
      "metadata": {
        "colab": {
          "base_uri": "https://localhost:8080/"
        },
        "id": "1d056aa5-da97-49b7-a5ff-370008d9614c",
        "outputId": "3d3e0613-eeaa-4323-9095-a677199a48fc"
      },
      "outputs": [
        {
          "data": {
            "text/plain": [
              "(10000,)"
            ]
          },
          "execution_count": 6,
          "metadata": {
            "tags": []
          },
          "output_type": "execute_result"
        }
      ],
      "source": [
        "y_test.shape"
      ]
    },
    {
      "cell_type": "code",
      "execution_count": 7,
      "metadata": {
        "colab": {
          "base_uri": "https://localhost:8080/",
          "height": 35
        },
        "id": "0ac71afc-36c7-488e-ac6c-4b00fb28beb1",
        "outputId": "d911be42-61bf-400b-aa73-aed54dd95d36"
      },
      "outputs": [
        {
          "data": {
            "application/vnd.google.colaboratory.intrinsic+json": {
              "type": "string"
            },
            "text/plain": [
              "'channels_last'"
            ]
          },
          "execution_count": 7,
          "metadata": {
            "tags": []
          },
          "output_type": "execute_result"
        }
      ],
      "source": [
        "K.image_data_format()"
      ]
    },
    {
      "cell_type": "markdown",
      "metadata": {
        "id": "672e4f65-bc11-4ced-9822-e83bfcf28c14"
      },
      "source": [
        "### data pre-processing"
      ]
    },
    {
      "cell_type": "code",
      "execution_count": 8,
      "metadata": {
        "id": "56099c1a-ed96-4026-a875-13b738630818"
      },
      "outputs": [],
      "source": [
        "# setting conditions to reshape images, based on backend K setting\n",
        "\n",
        "if K.image_data_format() is 'channels_first':\n",
        "    X_train = X_train.reshape(X_train.shape[0], 1, img_rows, img_cols)\n",
        "    X_test = X_test.reshape(X_test.shape[0], 1, img_rows, img_cols)\n",
        "    input_shape = (1, img_rows, img_cols)\n",
        "else:\n",
        "    X_train = X_train.reshape(X_train.shape[0], 1, img_rows, img_cols, 1)\n",
        "    X_test = X_test.reshape(X_test.shape[0], 1, img_rows, img_cols, 1)\n",
        "    input_shape = (1, img_rows, img_cols, 1)\n",
        "    \n",
        "# change the data type of trainig and test sets\n",
        "\n",
        "X_train = X_train.astype('float32')\n",
        "X_train = X_train / 255\n",
        "\n",
        "X_test = X_test.astype('float32')\n",
        "X_test = X_test / 255\n"
      ]
    },
    {
      "cell_type": "code",
      "execution_count": 9,
      "metadata": {
        "colab": {
          "base_uri": "https://localhost:8080/"
        },
        "id": "95a0e189-d042-4a70-8762-68af17437c28",
        "outputId": "5e588d33-64d6-4221-f06c-770f84c0d3ab"
      },
      "outputs": [
        {
          "name": "stdout",
          "output_type": "stream",
          "text": [
            "X_train shape: (60000, 1, 28, 28, 1)\n",
            "60000 train samples\n",
            "10000 test samples\n"
          ]
        }
      ],
      "source": [
        "print('X_train shape:', X_train.shape)\n",
        "print(X_train.shape[0], 'train samples')\n",
        "print(X_test.shape[0], 'test samples')"
      ]
    },
    {
      "cell_type": "code",
      "execution_count": 17,
      "metadata": {
        "id": "b226dae0-6eb4-417d-a3e2-487cc6492499"
      },
      "outputs": [],
      "source": [
        "y_train = np_utils.to_categorical(y_train, num_classes)\n",
        "y_test = np_utils.to_categorical(y_test, num_classes)"
      ]
    },
    {
      "cell_type": "markdown",
      "metadata": {
        "id": "58db3a16-a2f6-400c-9c24-62ed46e3702d"
      },
      "source": [
        "### define model architecture"
      ]
    },
    {
      "cell_type": "code",
      "execution_count": 18,
      "metadata": {
        "id": "a2bc778b-db96-4329-b47f-2ed41380057b"
      },
      "outputs": [],
      "source": [
        "model = Sequential()\n",
        "model.add(Conv2D(32, kernel_size=(3, 3), activation='relu', input_shape=input_shape))\n",
        "model.add(Conv2D(64, (3, 3), activation='relu'))\n",
        "model.add(Dropout(0.25))\n",
        "model.add(Flatten())\n",
        "model.add(Dense(128, activation='relu'))\n",
        "model.add(Dropout(0.5))\n",
        "model.add(Dense(num_classes, activation='softmax'))\n",
        "model.compile(loss=keras.losses.categorical_crossentropy, optimizer=keras.optimizers.Adadelta(), metrics=['accuracy'])"
      ]
    },
    {
      "cell_type": "markdown",
      "metadata": {
        "id": "efeb832f-8932-4037-b83c-36171736a311"
      },
      "source": [
        "### train the model"
      ]
    },
    {
      "cell_type": "code",
      "execution_count": 19,
      "metadata": {
        "colab": {
          "base_uri": "https://localhost:8080/"
        },
        "id": "b2254ab7-1c09-451a-aaaf-22d2905b66c7",
        "outputId": "7f794b44-4d6b-4e8f-bcb2-c066dfb2def7"
      },
      "outputs": [
        {
          "name": "stdout",
          "output_type": "stream",
          "text": [
            "Epoch 1/12\n",
            "469/469 [==============================] - 55s 24ms/step - loss: 2.2822 - accuracy: 0.1502 - val_loss: 2.1589 - val_accuracy: 0.5485\n",
            "Epoch 2/12\n",
            "469/469 [==============================] - 10s 22ms/step - loss: 2.1132 - accuracy: 0.4408 - val_loss: 1.8488 - val_accuracy: 0.7448\n",
            "Epoch 3/12\n",
            "469/469 [==============================] - 11s 22ms/step - loss: 1.7844 - accuracy: 0.6030 - val_loss: 1.3812 - val_accuracy: 0.7960\n",
            "Epoch 4/12\n",
            "469/469 [==============================] - 10s 22ms/step - loss: 1.3748 - accuracy: 0.6748 - val_loss: 0.9831 - val_accuracy: 0.8240\n",
            "Epoch 5/12\n",
            "469/469 [==============================] - 10s 22ms/step - loss: 1.0715 - accuracy: 0.7176 - val_loss: 0.7543 - val_accuracy: 0.8440\n",
            "Epoch 6/12\n",
            "469/469 [==============================] - 10s 22ms/step - loss: 0.8944 - accuracy: 0.7489 - val_loss: 0.6298 - val_accuracy: 0.8582\n",
            "Epoch 7/12\n",
            "469/469 [==============================] - 11s 22ms/step - loss: 0.7902 - accuracy: 0.7699 - val_loss: 0.5544 - val_accuracy: 0.8680\n",
            "Epoch 8/12\n",
            "469/469 [==============================] - 11s 22ms/step - loss: 0.7278 - accuracy: 0.7848 - val_loss: 0.5044 - val_accuracy: 0.8743\n",
            "Epoch 9/12\n",
            "469/469 [==============================] - 10s 22ms/step - loss: 0.6760 - accuracy: 0.8004 - val_loss: 0.4690 - val_accuracy: 0.8807\n",
            "Epoch 10/12\n",
            "469/469 [==============================] - 10s 22ms/step - loss: 0.6303 - accuracy: 0.8122 - val_loss: 0.4412 - val_accuracy: 0.8843\n",
            "Epoch 11/12\n",
            "469/469 [==============================] - 10s 22ms/step - loss: 0.6067 - accuracy: 0.8205 - val_loss: 0.4194 - val_accuracy: 0.8882\n",
            "Epoch 12/12\n",
            "469/469 [==============================] - 10s 22ms/step - loss: 0.5800 - accuracy: 0.8309 - val_loss: 0.4015 - val_accuracy: 0.8928\n"
          ]
        },
        {
          "data": {
            "text/plain": [
              "<keras.callbacks.History at 0x7f23a03cf8d0>"
            ]
          },
          "execution_count": 19,
          "metadata": {
            "tags": []
          },
          "output_type": "execute_result"
        }
      ],
      "source": [
        "model.fit(X_train, y_train, batch_size=batch_size, epochs=epochs, verbose=1, validation_data=(X_test, y_test))"
      ]
    },
    {
      "cell_type": "markdown",
      "metadata": {
        "id": "3diSwkwqF2vN"
      },
      "source": [
        "### evaluate the model"
      ]
    },
    {
      "cell_type": "code",
      "execution_count": 21,
      "metadata": {
        "id": "7305aefc-896f-43b3-a2d1-759cf3f76a85"
      },
      "outputs": [],
      "source": [
        "score = model.evaluate(X_test, y_test, verbose=0)"
      ]
    },
    {
      "cell_type": "code",
      "execution_count": 22,
      "metadata": {
        "colab": {
          "base_uri": "https://localhost:8080/"
        },
        "id": "OXSa13loFyZa",
        "outputId": "1248ad3f-6e07-468f-b1d0-72c8b3918610"
      },
      "outputs": [
        {
          "name": "stdout",
          "output_type": "stream",
          "text": [
            "Test loss: 0.4014960825443268\n",
            "Test accuracy: 0.892799973487854\n"
          ]
        }
      ],
      "source": [
        "print('Test loss:', score[0])\n",
        "print('Test accuracy:', score[1])"
      ]
    },
    {
      "cell_type": "markdown",
      "metadata": {
        "id": "tC26iiorF7Sn"
      },
      "source": [
        "### save the model"
      ]
    },
    {
      "cell_type": "code",
      "execution_count": 23,
      "metadata": {
        "id": "9gsKPpJZF05X"
      },
      "outputs": [],
      "source": [
        "model_json = model.to_json()\n",
        "with open(\"model.json\", \"w\") as json_file:\n",
        "    json_file.write(model_json)\n",
        "# serialize weights to HDF5\n",
        "model.save_weights(\"model.h5\")"
      ]
    },
    {
      "cell_type": "markdown",
      "metadata": {
        "id": "MT_jwhPfHd-p"
      },
      "source": [
        "### download files from colab"
      ]
    },
    {
      "cell_type": "code",
      "execution_count": 24,
      "metadata": {
        "colab": {
          "base_uri": "https://localhost:8080/",
          "height": 17
        },
        "id": "yOY7rPn_GCDx",
        "outputId": "f28febfe-b9fa-4efd-9981-84a93acb09dc"
      },
      "outputs": [
        {
          "data": {
            "application/javascript": [
              "\n",
              "    async function download(id, filename, size) {\n",
              "      if (!google.colab.kernel.accessAllowed) {\n",
              "        return;\n",
              "      }\n",
              "      const div = document.createElement('div');\n",
              "      const label = document.createElement('label');\n",
              "      label.textContent = `Downloading \"${filename}\": `;\n",
              "      div.appendChild(label);\n",
              "      const progress = document.createElement('progress');\n",
              "      progress.max = size;\n",
              "      div.appendChild(progress);\n",
              "      document.body.appendChild(div);\n",
              "\n",
              "      const buffers = [];\n",
              "      let downloaded = 0;\n",
              "\n",
              "      const channel = await google.colab.kernel.comms.open(id);\n",
              "      // Send a message to notify the kernel that we're ready.\n",
              "      channel.send({})\n",
              "\n",
              "      for await (const message of channel.messages) {\n",
              "        // Send a message to notify the kernel that we're ready.\n",
              "        channel.send({})\n",
              "        if (message.buffers) {\n",
              "          for (const buffer of message.buffers) {\n",
              "            buffers.push(buffer);\n",
              "            downloaded += buffer.byteLength;\n",
              "            progress.value = downloaded;\n",
              "          }\n",
              "        }\n",
              "      }\n",
              "      const blob = new Blob(buffers, {type: 'application/binary'});\n",
              "      const a = document.createElement('a');\n",
              "      a.href = window.URL.createObjectURL(blob);\n",
              "      a.download = filename;\n",
              "      div.appendChild(a);\n",
              "      a.click();\n",
              "      div.remove();\n",
              "    }\n",
              "  "
            ],
            "text/plain": [
              "<IPython.core.display.Javascript object>"
            ]
          },
          "metadata": {
            "tags": []
          },
          "output_type": "display_data"
        },
        {
          "data": {
            "application/javascript": [
              "download(\"download_f1c7165f-616b-4f2c-a19d-d2b528072d7d\", \"model.h5\", 18976776)"
            ],
            "text/plain": [
              "<IPython.core.display.Javascript object>"
            ]
          },
          "metadata": {
            "tags": []
          },
          "output_type": "display_data"
        }
      ],
      "source": [
        "from google.colab import files\n",
        "files.download(\"model.h5\")"
      ]
    },
    {
      "cell_type": "code",
      "execution_count": 25,
      "metadata": {
        "colab": {
          "base_uri": "https://localhost:8080/",
          "height": 17
        },
        "id": "bPpzCgtkHb6E",
        "outputId": "1ba058d0-800d-4c1d-afab-34d32d9c051e"
      },
      "outputs": [
        {
          "data": {
            "application/javascript": [
              "\n",
              "    async function download(id, filename, size) {\n",
              "      if (!google.colab.kernel.accessAllowed) {\n",
              "        return;\n",
              "      }\n",
              "      const div = document.createElement('div');\n",
              "      const label = document.createElement('label');\n",
              "      label.textContent = `Downloading \"${filename}\": `;\n",
              "      div.appendChild(label);\n",
              "      const progress = document.createElement('progress');\n",
              "      progress.max = size;\n",
              "      div.appendChild(progress);\n",
              "      document.body.appendChild(div);\n",
              "\n",
              "      const buffers = [];\n",
              "      let downloaded = 0;\n",
              "\n",
              "      const channel = await google.colab.kernel.comms.open(id);\n",
              "      // Send a message to notify the kernel that we're ready.\n",
              "      channel.send({})\n",
              "\n",
              "      for await (const message of channel.messages) {\n",
              "        // Send a message to notify the kernel that we're ready.\n",
              "        channel.send({})\n",
              "        if (message.buffers) {\n",
              "          for (const buffer of message.buffers) {\n",
              "            buffers.push(buffer);\n",
              "            downloaded += buffer.byteLength;\n",
              "            progress.value = downloaded;\n",
              "          }\n",
              "        }\n",
              "      }\n",
              "      const blob = new Blob(buffers, {type: 'application/binary'});\n",
              "      const a = document.createElement('a');\n",
              "      a.href = window.URL.createObjectURL(blob);\n",
              "      a.download = filename;\n",
              "      div.appendChild(a);\n",
              "      a.click();\n",
              "      div.remove();\n",
              "    }\n",
              "  "
            ],
            "text/plain": [
              "<IPython.core.display.Javascript object>"
            ]
          },
          "metadata": {
            "tags": []
          },
          "output_type": "display_data"
        },
        {
          "data": {
            "application/javascript": [
              "download(\"download_52109fb1-7d2b-4ad2-a5a2-dc54bba7f1c3\", \"model.json\", 2721)"
            ],
            "text/plain": [
              "<IPython.core.display.Javascript object>"
            ]
          },
          "metadata": {
            "tags": []
          },
          "output_type": "display_data"
        }
      ],
      "source": [
        "files.download(\"model.json\")"
      ]
    },
    {
      "cell_type": "markdown",
      "metadata": {
        "id": "odvCvEmJJJDp"
      },
      "source": [
        "### load the weights whenever we want for future use"
      ]
    },
    {
      "cell_type": "code",
      "execution_count": 34,
      "metadata": {
        "id": "jaPp1hb4HlpI"
      },
      "outputs": [],
      "source": [
        "import tensorflow as tf\n",
        "\n",
        "json_file = open('model.json', 'r')\n",
        "loaded_model_json = json_file.read()\n",
        "json_file.close()\n",
        "\n",
        "loaded_model = tf.keras.models.model_from_json(loaded_model_json)\n",
        "\n",
        "loaded_model.load_weights('model.h5')"
      ]
    },
    {
      "cell_type": "code",
      "execution_count": 36,
      "metadata": {
        "id": "X5KdAi70LV1e"
      },
      "outputs": [],
      "source": [
        "loaded_model.compile(loss='categorical_crossentropy',optimizer='adam',metrics=['accuracy'])\n"
      ]
    }
  ],
  "metadata": {
    "kernelspec": {
      "display_name": "Python 3.8.5 64-bit ('base': conda)",
      "name": "python385jvsc74a57bd0efc8bafc4d758f486988f8d2efdda8600090a7a8cf09b7978310c03f7f9bdeb6"
    },
    "language_info": {
      "name": "python",
      "version": ""
    },
    "orig_nbformat": 3
  },
  "nbformat": 4,
  "nbformat_minor": 5
}