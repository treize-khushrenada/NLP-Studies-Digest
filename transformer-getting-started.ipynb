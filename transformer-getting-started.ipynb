{
  "nbformat": 4,
  "nbformat_minor": 0,
  "metadata": {
    "colab": {
      "name": "gettingstartedwithtransformer.ipynb",
      "provenance": [],
      "collapsed_sections": []
    },
    "kernelspec": {
      "name": "python3",
      "display_name": "Python 3"
    },
    "language_info": {
      "name": "python"
    },
    "accelerator": "GPU",
    "widgets": {
      "application/vnd.jupyter.widget-state+json": {
        "050f655350bd440e9bc6381ccb2ec9ab": {
          "model_module": "@jupyter-widgets/controls",
          "model_name": "HBoxModel",
          "state": {
            "_view_name": "HBoxView",
            "_dom_classes": [],
            "_model_name": "HBoxModel",
            "_view_module": "@jupyter-widgets/controls",
            "_model_module_version": "1.5.0",
            "_view_count": null,
            "_view_module_version": "1.5.0",
            "box_style": "",
            "layout": "IPY_MODEL_505434aee0a4426885fa179faf67c5ee",
            "_model_module": "@jupyter-widgets/controls",
            "children": [
              "IPY_MODEL_b822623381514e02849165139c6b8d41",
              "IPY_MODEL_5812f14f242d4197a2f2d25c469ad0cd"
            ]
          }
        },
        "505434aee0a4426885fa179faf67c5ee": {
          "model_module": "@jupyter-widgets/base",
          "model_name": "LayoutModel",
          "state": {
            "_view_name": "LayoutView",
            "grid_template_rows": null,
            "right": null,
            "justify_content": null,
            "_view_module": "@jupyter-widgets/base",
            "overflow": null,
            "_model_module_version": "1.2.0",
            "_view_count": null,
            "flex_flow": null,
            "width": null,
            "min_width": null,
            "border": null,
            "align_items": null,
            "bottom": null,
            "_model_module": "@jupyter-widgets/base",
            "top": null,
            "grid_column": null,
            "overflow_y": null,
            "overflow_x": null,
            "grid_auto_flow": null,
            "grid_area": null,
            "grid_template_columns": null,
            "flex": null,
            "_model_name": "LayoutModel",
            "justify_items": null,
            "grid_row": null,
            "max_height": null,
            "align_content": null,
            "visibility": null,
            "align_self": null,
            "height": null,
            "min_height": null,
            "padding": null,
            "grid_auto_rows": null,
            "grid_gap": null,
            "max_width": null,
            "order": null,
            "_view_module_version": "1.2.0",
            "grid_template_areas": null,
            "object_position": null,
            "object_fit": null,
            "grid_auto_columns": null,
            "margin": null,
            "display": null,
            "left": null
          }
        },
        "b822623381514e02849165139c6b8d41": {
          "model_module": "@jupyter-widgets/controls",
          "model_name": "FloatProgressModel",
          "state": {
            "_view_name": "ProgressView",
            "style": "IPY_MODEL_fe7f9cc22ec54761bbc4c192799ddaf0",
            "_dom_classes": [],
            "description": "Downloading: 100%",
            "_model_name": "FloatProgressModel",
            "bar_style": "success",
            "max": 433,
            "_view_module": "@jupyter-widgets/controls",
            "_model_module_version": "1.5.0",
            "value": 433,
            "_view_count": null,
            "_view_module_version": "1.5.0",
            "orientation": "horizontal",
            "min": 0,
            "description_tooltip": null,
            "_model_module": "@jupyter-widgets/controls",
            "layout": "IPY_MODEL_dd42c22abf5742d3bb42771d76809014"
          }
        },
        "5812f14f242d4197a2f2d25c469ad0cd": {
          "model_module": "@jupyter-widgets/controls",
          "model_name": "HTMLModel",
          "state": {
            "_view_name": "HTMLView",
            "style": "IPY_MODEL_d1e1e6e84bb64aeaa352fb5246017083",
            "_dom_classes": [],
            "description": "",
            "_model_name": "HTMLModel",
            "placeholder": "​",
            "_view_module": "@jupyter-widgets/controls",
            "_model_module_version": "1.5.0",
            "value": " 433/433 [00:00&lt;00:00, 5.68kB/s]",
            "_view_count": null,
            "_view_module_version": "1.5.0",
            "description_tooltip": null,
            "_model_module": "@jupyter-widgets/controls",
            "layout": "IPY_MODEL_9ab4b7ac9abb43d49d5def45dc1e7488"
          }
        },
        "fe7f9cc22ec54761bbc4c192799ddaf0": {
          "model_module": "@jupyter-widgets/controls",
          "model_name": "ProgressStyleModel",
          "state": {
            "_view_name": "StyleView",
            "_model_name": "ProgressStyleModel",
            "description_width": "initial",
            "_view_module": "@jupyter-widgets/base",
            "_model_module_version": "1.5.0",
            "_view_count": null,
            "_view_module_version": "1.2.0",
            "bar_color": null,
            "_model_module": "@jupyter-widgets/controls"
          }
        },
        "dd42c22abf5742d3bb42771d76809014": {
          "model_module": "@jupyter-widgets/base",
          "model_name": "LayoutModel",
          "state": {
            "_view_name": "LayoutView",
            "grid_template_rows": null,
            "right": null,
            "justify_content": null,
            "_view_module": "@jupyter-widgets/base",
            "overflow": null,
            "_model_module_version": "1.2.0",
            "_view_count": null,
            "flex_flow": null,
            "width": null,
            "min_width": null,
            "border": null,
            "align_items": null,
            "bottom": null,
            "_model_module": "@jupyter-widgets/base",
            "top": null,
            "grid_column": null,
            "overflow_y": null,
            "overflow_x": null,
            "grid_auto_flow": null,
            "grid_area": null,
            "grid_template_columns": null,
            "flex": null,
            "_model_name": "LayoutModel",
            "justify_items": null,
            "grid_row": null,
            "max_height": null,
            "align_content": null,
            "visibility": null,
            "align_self": null,
            "height": null,
            "min_height": null,
            "padding": null,
            "grid_auto_rows": null,
            "grid_gap": null,
            "max_width": null,
            "order": null,
            "_view_module_version": "1.2.0",
            "grid_template_areas": null,
            "object_position": null,
            "object_fit": null,
            "grid_auto_columns": null,
            "margin": null,
            "display": null,
            "left": null
          }
        },
        "d1e1e6e84bb64aeaa352fb5246017083": {
          "model_module": "@jupyter-widgets/controls",
          "model_name": "DescriptionStyleModel",
          "state": {
            "_view_name": "StyleView",
            "_model_name": "DescriptionStyleModel",
            "description_width": "",
            "_view_module": "@jupyter-widgets/base",
            "_model_module_version": "1.5.0",
            "_view_count": null,
            "_view_module_version": "1.2.0",
            "_model_module": "@jupyter-widgets/controls"
          }
        },
        "9ab4b7ac9abb43d49d5def45dc1e7488": {
          "model_module": "@jupyter-widgets/base",
          "model_name": "LayoutModel",
          "state": {
            "_view_name": "LayoutView",
            "grid_template_rows": null,
            "right": null,
            "justify_content": null,
            "_view_module": "@jupyter-widgets/base",
            "overflow": null,
            "_model_module_version": "1.2.0",
            "_view_count": null,
            "flex_flow": null,
            "width": null,
            "min_width": null,
            "border": null,
            "align_items": null,
            "bottom": null,
            "_model_module": "@jupyter-widgets/base",
            "top": null,
            "grid_column": null,
            "overflow_y": null,
            "overflow_x": null,
            "grid_auto_flow": null,
            "grid_area": null,
            "grid_template_columns": null,
            "flex": null,
            "_model_name": "LayoutModel",
            "justify_items": null,
            "grid_row": null,
            "max_height": null,
            "align_content": null,
            "visibility": null,
            "align_self": null,
            "height": null,
            "min_height": null,
            "padding": null,
            "grid_auto_rows": null,
            "grid_gap": null,
            "max_width": null,
            "order": null,
            "_view_module_version": "1.2.0",
            "grid_template_areas": null,
            "object_position": null,
            "object_fit": null,
            "grid_auto_columns": null,
            "margin": null,
            "display": null,
            "left": null
          }
        },
        "61cc384b98f443e9923ddffec2b39b2d": {
          "model_module": "@jupyter-widgets/controls",
          "model_name": "HBoxModel",
          "state": {
            "_view_name": "HBoxView",
            "_dom_classes": [],
            "_model_name": "HBoxModel",
            "_view_module": "@jupyter-widgets/controls",
            "_model_module_version": "1.5.0",
            "_view_count": null,
            "_view_module_version": "1.5.0",
            "box_style": "",
            "layout": "IPY_MODEL_f7b5655ada2649d899accd1d543b6cb0",
            "_model_module": "@jupyter-widgets/controls",
            "children": [
              "IPY_MODEL_b9d03efa453543e1a84d85ae56ea8beb",
              "IPY_MODEL_8ba6c8d91ec8487fb2151341c35fc265"
            ]
          }
        },
        "f7b5655ada2649d899accd1d543b6cb0": {
          "model_module": "@jupyter-widgets/base",
          "model_name": "LayoutModel",
          "state": {
            "_view_name": "LayoutView",
            "grid_template_rows": null,
            "right": null,
            "justify_content": null,
            "_view_module": "@jupyter-widgets/base",
            "overflow": null,
            "_model_module_version": "1.2.0",
            "_view_count": null,
            "flex_flow": null,
            "width": null,
            "min_width": null,
            "border": null,
            "align_items": null,
            "bottom": null,
            "_model_module": "@jupyter-widgets/base",
            "top": null,
            "grid_column": null,
            "overflow_y": null,
            "overflow_x": null,
            "grid_auto_flow": null,
            "grid_area": null,
            "grid_template_columns": null,
            "flex": null,
            "_model_name": "LayoutModel",
            "justify_items": null,
            "grid_row": null,
            "max_height": null,
            "align_content": null,
            "visibility": null,
            "align_self": null,
            "height": null,
            "min_height": null,
            "padding": null,
            "grid_auto_rows": null,
            "grid_gap": null,
            "max_width": null,
            "order": null,
            "_view_module_version": "1.2.0",
            "grid_template_areas": null,
            "object_position": null,
            "object_fit": null,
            "grid_auto_columns": null,
            "margin": null,
            "display": null,
            "left": null
          }
        },
        "b9d03efa453543e1a84d85ae56ea8beb": {
          "model_module": "@jupyter-widgets/controls",
          "model_name": "FloatProgressModel",
          "state": {
            "_view_name": "ProgressView",
            "style": "IPY_MODEL_d4f557f95fc74a848e408c7516c7a620",
            "_dom_classes": [],
            "description": "Downloading: 100%",
            "_model_name": "FloatProgressModel",
            "bar_style": "success",
            "max": 435779157,
            "_view_module": "@jupyter-widgets/controls",
            "_model_module_version": "1.5.0",
            "value": 435779157,
            "_view_count": null,
            "_view_module_version": "1.5.0",
            "orientation": "horizontal",
            "min": 0,
            "description_tooltip": null,
            "_model_module": "@jupyter-widgets/controls",
            "layout": "IPY_MODEL_4476c090c5fb4488af3ca8205e8dbb90"
          }
        },
        "8ba6c8d91ec8487fb2151341c35fc265": {
          "model_module": "@jupyter-widgets/controls",
          "model_name": "HTMLModel",
          "state": {
            "_view_name": "HTMLView",
            "style": "IPY_MODEL_ad01afd3f75f445387f610bbbf5d76da",
            "_dom_classes": [],
            "description": "",
            "_model_name": "HTMLModel",
            "placeholder": "​",
            "_view_module": "@jupyter-widgets/controls",
            "_model_module_version": "1.5.0",
            "value": " 436M/436M [00:08&lt;00:00, 54.4MB/s]",
            "_view_count": null,
            "_view_module_version": "1.5.0",
            "description_tooltip": null,
            "_model_module": "@jupyter-widgets/controls",
            "layout": "IPY_MODEL_0e9bfa0a8c474494ad81ac8fc00040bc"
          }
        },
        "d4f557f95fc74a848e408c7516c7a620": {
          "model_module": "@jupyter-widgets/controls",
          "model_name": "ProgressStyleModel",
          "state": {
            "_view_name": "StyleView",
            "_model_name": "ProgressStyleModel",
            "description_width": "initial",
            "_view_module": "@jupyter-widgets/base",
            "_model_module_version": "1.5.0",
            "_view_count": null,
            "_view_module_version": "1.2.0",
            "bar_color": null,
            "_model_module": "@jupyter-widgets/controls"
          }
        },
        "4476c090c5fb4488af3ca8205e8dbb90": {
          "model_module": "@jupyter-widgets/base",
          "model_name": "LayoutModel",
          "state": {
            "_view_name": "LayoutView",
            "grid_template_rows": null,
            "right": null,
            "justify_content": null,
            "_view_module": "@jupyter-widgets/base",
            "overflow": null,
            "_model_module_version": "1.2.0",
            "_view_count": null,
            "flex_flow": null,
            "width": null,
            "min_width": null,
            "border": null,
            "align_items": null,
            "bottom": null,
            "_model_module": "@jupyter-widgets/base",
            "top": null,
            "grid_column": null,
            "overflow_y": null,
            "overflow_x": null,
            "grid_auto_flow": null,
            "grid_area": null,
            "grid_template_columns": null,
            "flex": null,
            "_model_name": "LayoutModel",
            "justify_items": null,
            "grid_row": null,
            "max_height": null,
            "align_content": null,
            "visibility": null,
            "align_self": null,
            "height": null,
            "min_height": null,
            "padding": null,
            "grid_auto_rows": null,
            "grid_gap": null,
            "max_width": null,
            "order": null,
            "_view_module_version": "1.2.0",
            "grid_template_areas": null,
            "object_position": null,
            "object_fit": null,
            "grid_auto_columns": null,
            "margin": null,
            "display": null,
            "left": null
          }
        },
        "ad01afd3f75f445387f610bbbf5d76da": {
          "model_module": "@jupyter-widgets/controls",
          "model_name": "DescriptionStyleModel",
          "state": {
            "_view_name": "StyleView",
            "_model_name": "DescriptionStyleModel",
            "description_width": "",
            "_view_module": "@jupyter-widgets/base",
            "_model_module_version": "1.5.0",
            "_view_count": null,
            "_view_module_version": "1.2.0",
            "_model_module": "@jupyter-widgets/controls"
          }
        },
        "0e9bfa0a8c474494ad81ac8fc00040bc": {
          "model_module": "@jupyter-widgets/base",
          "model_name": "LayoutModel",
          "state": {
            "_view_name": "LayoutView",
            "grid_template_rows": null,
            "right": null,
            "justify_content": null,
            "_view_module": "@jupyter-widgets/base",
            "overflow": null,
            "_model_module_version": "1.2.0",
            "_view_count": null,
            "flex_flow": null,
            "width": null,
            "min_width": null,
            "border": null,
            "align_items": null,
            "bottom": null,
            "_model_module": "@jupyter-widgets/base",
            "top": null,
            "grid_column": null,
            "overflow_y": null,
            "overflow_x": null,
            "grid_auto_flow": null,
            "grid_area": null,
            "grid_template_columns": null,
            "flex": null,
            "_model_name": "LayoutModel",
            "justify_items": null,
            "grid_row": null,
            "max_height": null,
            "align_content": null,
            "visibility": null,
            "align_self": null,
            "height": null,
            "min_height": null,
            "padding": null,
            "grid_auto_rows": null,
            "grid_gap": null,
            "max_width": null,
            "order": null,
            "_view_module_version": "1.2.0",
            "grid_template_areas": null,
            "object_position": null,
            "object_fit": null,
            "grid_auto_columns": null,
            "margin": null,
            "display": null,
            "left": null
          }
        },
        "3d2009e8a59d435c975ff53ee4253cbe": {
          "model_module": "@jupyter-widgets/controls",
          "model_name": "HBoxModel",
          "state": {
            "_view_name": "HBoxView",
            "_dom_classes": [],
            "_model_name": "HBoxModel",
            "_view_module": "@jupyter-widgets/controls",
            "_model_module_version": "1.5.0",
            "_view_count": null,
            "_view_module_version": "1.5.0",
            "box_style": "",
            "layout": "IPY_MODEL_48447662fa0543679573601622daa0bf",
            "_model_module": "@jupyter-widgets/controls",
            "children": [
              "IPY_MODEL_9564bd48751746b28c7ef76a2b54e981",
              "IPY_MODEL_9fe77f8a0199442e9f510d73dbd76f91"
            ]
          }
        },
        "48447662fa0543679573601622daa0bf": {
          "model_module": "@jupyter-widgets/base",
          "model_name": "LayoutModel",
          "state": {
            "_view_name": "LayoutView",
            "grid_template_rows": null,
            "right": null,
            "justify_content": null,
            "_view_module": "@jupyter-widgets/base",
            "overflow": null,
            "_model_module_version": "1.2.0",
            "_view_count": null,
            "flex_flow": null,
            "width": null,
            "min_width": null,
            "border": null,
            "align_items": null,
            "bottom": null,
            "_model_module": "@jupyter-widgets/base",
            "top": null,
            "grid_column": null,
            "overflow_y": null,
            "overflow_x": null,
            "grid_auto_flow": null,
            "grid_area": null,
            "grid_template_columns": null,
            "flex": null,
            "_model_name": "LayoutModel",
            "justify_items": null,
            "grid_row": null,
            "max_height": null,
            "align_content": null,
            "visibility": null,
            "align_self": null,
            "height": null,
            "min_height": null,
            "padding": null,
            "grid_auto_rows": null,
            "grid_gap": null,
            "max_width": null,
            "order": null,
            "_view_module_version": "1.2.0",
            "grid_template_areas": null,
            "object_position": null,
            "object_fit": null,
            "grid_auto_columns": null,
            "margin": null,
            "display": null,
            "left": null
          }
        },
        "9564bd48751746b28c7ef76a2b54e981": {
          "model_module": "@jupyter-widgets/controls",
          "model_name": "FloatProgressModel",
          "state": {
            "_view_name": "ProgressView",
            "style": "IPY_MODEL_2611c93afb86452185304cad7624e87a",
            "_dom_classes": [],
            "description": "Downloading: 100%",
            "_model_name": "FloatProgressModel",
            "bar_style": "success",
            "max": 213450,
            "_view_module": "@jupyter-widgets/controls",
            "_model_module_version": "1.5.0",
            "value": 213450,
            "_view_count": null,
            "_view_module_version": "1.5.0",
            "orientation": "horizontal",
            "min": 0,
            "description_tooltip": null,
            "_model_module": "@jupyter-widgets/controls",
            "layout": "IPY_MODEL_216216747a8a4f4781092a1bf2ce0630"
          }
        },
        "9fe77f8a0199442e9f510d73dbd76f91": {
          "model_module": "@jupyter-widgets/controls",
          "model_name": "HTMLModel",
          "state": {
            "_view_name": "HTMLView",
            "style": "IPY_MODEL_1d5b83e366724ff8b4bb82d3987c07fa",
            "_dom_classes": [],
            "description": "",
            "_model_name": "HTMLModel",
            "placeholder": "​",
            "_view_module": "@jupyter-widgets/controls",
            "_model_module_version": "1.5.0",
            "value": " 213k/213k [01:33&lt;00:00, 2.27kB/s]",
            "_view_count": null,
            "_view_module_version": "1.5.0",
            "description_tooltip": null,
            "_model_module": "@jupyter-widgets/controls",
            "layout": "IPY_MODEL_eb195b9eae2c4af08f89c48638bde815"
          }
        },
        "2611c93afb86452185304cad7624e87a": {
          "model_module": "@jupyter-widgets/controls",
          "model_name": "ProgressStyleModel",
          "state": {
            "_view_name": "StyleView",
            "_model_name": "ProgressStyleModel",
            "description_width": "initial",
            "_view_module": "@jupyter-widgets/base",
            "_model_module_version": "1.5.0",
            "_view_count": null,
            "_view_module_version": "1.2.0",
            "bar_color": null,
            "_model_module": "@jupyter-widgets/controls"
          }
        },
        "216216747a8a4f4781092a1bf2ce0630": {
          "model_module": "@jupyter-widgets/base",
          "model_name": "LayoutModel",
          "state": {
            "_view_name": "LayoutView",
            "grid_template_rows": null,
            "right": null,
            "justify_content": null,
            "_view_module": "@jupyter-widgets/base",
            "overflow": null,
            "_model_module_version": "1.2.0",
            "_view_count": null,
            "flex_flow": null,
            "width": null,
            "min_width": null,
            "border": null,
            "align_items": null,
            "bottom": null,
            "_model_module": "@jupyter-widgets/base",
            "top": null,
            "grid_column": null,
            "overflow_y": null,
            "overflow_x": null,
            "grid_auto_flow": null,
            "grid_area": null,
            "grid_template_columns": null,
            "flex": null,
            "_model_name": "LayoutModel",
            "justify_items": null,
            "grid_row": null,
            "max_height": null,
            "align_content": null,
            "visibility": null,
            "align_self": null,
            "height": null,
            "min_height": null,
            "padding": null,
            "grid_auto_rows": null,
            "grid_gap": null,
            "max_width": null,
            "order": null,
            "_view_module_version": "1.2.0",
            "grid_template_areas": null,
            "object_position": null,
            "object_fit": null,
            "grid_auto_columns": null,
            "margin": null,
            "display": null,
            "left": null
          }
        },
        "1d5b83e366724ff8b4bb82d3987c07fa": {
          "model_module": "@jupyter-widgets/controls",
          "model_name": "DescriptionStyleModel",
          "state": {
            "_view_name": "StyleView",
            "_model_name": "DescriptionStyleModel",
            "description_width": "",
            "_view_module": "@jupyter-widgets/base",
            "_model_module_version": "1.5.0",
            "_view_count": null,
            "_view_module_version": "1.2.0",
            "_model_module": "@jupyter-widgets/controls"
          }
        },
        "eb195b9eae2c4af08f89c48638bde815": {
          "model_module": "@jupyter-widgets/base",
          "model_name": "LayoutModel",
          "state": {
            "_view_name": "LayoutView",
            "grid_template_rows": null,
            "right": null,
            "justify_content": null,
            "_view_module": "@jupyter-widgets/base",
            "overflow": null,
            "_model_module_version": "1.2.0",
            "_view_count": null,
            "flex_flow": null,
            "width": null,
            "min_width": null,
            "border": null,
            "align_items": null,
            "bottom": null,
            "_model_module": "@jupyter-widgets/base",
            "top": null,
            "grid_column": null,
            "overflow_y": null,
            "overflow_x": null,
            "grid_auto_flow": null,
            "grid_area": null,
            "grid_template_columns": null,
            "flex": null,
            "_model_name": "LayoutModel",
            "justify_items": null,
            "grid_row": null,
            "max_height": null,
            "align_content": null,
            "visibility": null,
            "align_self": null,
            "height": null,
            "min_height": null,
            "padding": null,
            "grid_auto_rows": null,
            "grid_gap": null,
            "max_width": null,
            "order": null,
            "_view_module_version": "1.2.0",
            "grid_template_areas": null,
            "object_position": null,
            "object_fit": null,
            "grid_auto_columns": null,
            "margin": null,
            "display": null,
            "left": null
          }
        },
        "dfd26bdbf70b4c9393224e0edf423e5f": {
          "model_module": "@jupyter-widgets/controls",
          "model_name": "HBoxModel",
          "state": {
            "_view_name": "HBoxView",
            "_dom_classes": [],
            "_model_name": "HBoxModel",
            "_view_module": "@jupyter-widgets/controls",
            "_model_module_version": "1.5.0",
            "_view_count": null,
            "_view_module_version": "1.5.0",
            "box_style": "",
            "layout": "IPY_MODEL_2415e25b0d964d16a18c4e80ee2c7163",
            "_model_module": "@jupyter-widgets/controls",
            "children": [
              "IPY_MODEL_ec0d54e64d014958ab8db7c1325670e0",
              "IPY_MODEL_5d3d72725f384de2ad797e664d85a818"
            ]
          }
        },
        "2415e25b0d964d16a18c4e80ee2c7163": {
          "model_module": "@jupyter-widgets/base",
          "model_name": "LayoutModel",
          "state": {
            "_view_name": "LayoutView",
            "grid_template_rows": null,
            "right": null,
            "justify_content": null,
            "_view_module": "@jupyter-widgets/base",
            "overflow": null,
            "_model_module_version": "1.2.0",
            "_view_count": null,
            "flex_flow": null,
            "width": null,
            "min_width": null,
            "border": null,
            "align_items": null,
            "bottom": null,
            "_model_module": "@jupyter-widgets/base",
            "top": null,
            "grid_column": null,
            "overflow_y": null,
            "overflow_x": null,
            "grid_auto_flow": null,
            "grid_area": null,
            "grid_template_columns": null,
            "flex": null,
            "_model_name": "LayoutModel",
            "justify_items": null,
            "grid_row": null,
            "max_height": null,
            "align_content": null,
            "visibility": null,
            "align_self": null,
            "height": null,
            "min_height": null,
            "padding": null,
            "grid_auto_rows": null,
            "grid_gap": null,
            "max_width": null,
            "order": null,
            "_view_module_version": "1.2.0",
            "grid_template_areas": null,
            "object_position": null,
            "object_fit": null,
            "grid_auto_columns": null,
            "margin": null,
            "display": null,
            "left": null
          }
        },
        "ec0d54e64d014958ab8db7c1325670e0": {
          "model_module": "@jupyter-widgets/controls",
          "model_name": "FloatProgressModel",
          "state": {
            "_view_name": "ProgressView",
            "style": "IPY_MODEL_e9d02b060c6c4f209b121198f636b123",
            "_dom_classes": [],
            "description": "Downloading: 100%",
            "_model_name": "FloatProgressModel",
            "bar_style": "success",
            "max": 435797,
            "_view_module": "@jupyter-widgets/controls",
            "_model_module_version": "1.5.0",
            "value": 435797,
            "_view_count": null,
            "_view_module_version": "1.5.0",
            "orientation": "horizontal",
            "min": 0,
            "description_tooltip": null,
            "_model_module": "@jupyter-widgets/controls",
            "layout": "IPY_MODEL_df18d37c31b4467a8274d659e52156c9"
          }
        },
        "5d3d72725f384de2ad797e664d85a818": {
          "model_module": "@jupyter-widgets/controls",
          "model_name": "HTMLModel",
          "state": {
            "_view_name": "HTMLView",
            "style": "IPY_MODEL_1e476b43e21545969f4c06f18cdf6c3e",
            "_dom_classes": [],
            "description": "",
            "_model_name": "HTMLModel",
            "placeholder": "​",
            "_view_module": "@jupyter-widgets/controls",
            "_model_module_version": "1.5.0",
            "value": " 436k/436k [01:03&lt;00:00, 6.87kB/s]",
            "_view_count": null,
            "_view_module_version": "1.5.0",
            "description_tooltip": null,
            "_model_module": "@jupyter-widgets/controls",
            "layout": "IPY_MODEL_c385cc30fe824e3784c41a02e19af18b"
          }
        },
        "e9d02b060c6c4f209b121198f636b123": {
          "model_module": "@jupyter-widgets/controls",
          "model_name": "ProgressStyleModel",
          "state": {
            "_view_name": "StyleView",
            "_model_name": "ProgressStyleModel",
            "description_width": "initial",
            "_view_module": "@jupyter-widgets/base",
            "_model_module_version": "1.5.0",
            "_view_count": null,
            "_view_module_version": "1.2.0",
            "bar_color": null,
            "_model_module": "@jupyter-widgets/controls"
          }
        },
        "df18d37c31b4467a8274d659e52156c9": {
          "model_module": "@jupyter-widgets/base",
          "model_name": "LayoutModel",
          "state": {
            "_view_name": "LayoutView",
            "grid_template_rows": null,
            "right": null,
            "justify_content": null,
            "_view_module": "@jupyter-widgets/base",
            "overflow": null,
            "_model_module_version": "1.2.0",
            "_view_count": null,
            "flex_flow": null,
            "width": null,
            "min_width": null,
            "border": null,
            "align_items": null,
            "bottom": null,
            "_model_module": "@jupyter-widgets/base",
            "top": null,
            "grid_column": null,
            "overflow_y": null,
            "overflow_x": null,
            "grid_auto_flow": null,
            "grid_area": null,
            "grid_template_columns": null,
            "flex": null,
            "_model_name": "LayoutModel",
            "justify_items": null,
            "grid_row": null,
            "max_height": null,
            "align_content": null,
            "visibility": null,
            "align_self": null,
            "height": null,
            "min_height": null,
            "padding": null,
            "grid_auto_rows": null,
            "grid_gap": null,
            "max_width": null,
            "order": null,
            "_view_module_version": "1.2.0",
            "grid_template_areas": null,
            "object_position": null,
            "object_fit": null,
            "grid_auto_columns": null,
            "margin": null,
            "display": null,
            "left": null
          }
        },
        "1e476b43e21545969f4c06f18cdf6c3e": {
          "model_module": "@jupyter-widgets/controls",
          "model_name": "DescriptionStyleModel",
          "state": {
            "_view_name": "StyleView",
            "_model_name": "DescriptionStyleModel",
            "description_width": "",
            "_view_module": "@jupyter-widgets/base",
            "_model_module_version": "1.5.0",
            "_view_count": null,
            "_view_module_version": "1.2.0",
            "_model_module": "@jupyter-widgets/controls"
          }
        },
        "c385cc30fe824e3784c41a02e19af18b": {
          "model_module": "@jupyter-widgets/base",
          "model_name": "LayoutModel",
          "state": {
            "_view_name": "LayoutView",
            "grid_template_rows": null,
            "right": null,
            "justify_content": null,
            "_view_module": "@jupyter-widgets/base",
            "overflow": null,
            "_model_module_version": "1.2.0",
            "_view_count": null,
            "flex_flow": null,
            "width": null,
            "min_width": null,
            "border": null,
            "align_items": null,
            "bottom": null,
            "_model_module": "@jupyter-widgets/base",
            "top": null,
            "grid_column": null,
            "overflow_y": null,
            "overflow_x": null,
            "grid_auto_flow": null,
            "grid_area": null,
            "grid_template_columns": null,
            "flex": null,
            "_model_name": "LayoutModel",
            "justify_items": null,
            "grid_row": null,
            "max_height": null,
            "align_content": null,
            "visibility": null,
            "align_self": null,
            "height": null,
            "min_height": null,
            "padding": null,
            "grid_auto_rows": null,
            "grid_gap": null,
            "max_width": null,
            "order": null,
            "_view_module_version": "1.2.0",
            "grid_template_areas": null,
            "object_position": null,
            "object_fit": null,
            "grid_auto_columns": null,
            "margin": null,
            "display": null,
            "left": null
          }
        },
        "b75ef78a430a479c8777329b425b7bbb": {
          "model_module": "@jupyter-widgets/controls",
          "model_name": "HBoxModel",
          "state": {
            "_view_name": "HBoxView",
            "_dom_classes": [],
            "_model_name": "HBoxModel",
            "_view_module": "@jupyter-widgets/controls",
            "_model_module_version": "1.5.0",
            "_view_count": null,
            "_view_module_version": "1.5.0",
            "box_style": "",
            "layout": "IPY_MODEL_e6b455c934a94f759a2f55eef4aea686",
            "_model_module": "@jupyter-widgets/controls",
            "children": [
              "IPY_MODEL_b58849f295b74ca68597f5c8b8008a18",
              "IPY_MODEL_1caf82835fb54b558f6673e20a5bc760"
            ]
          }
        },
        "e6b455c934a94f759a2f55eef4aea686": {
          "model_module": "@jupyter-widgets/base",
          "model_name": "LayoutModel",
          "state": {
            "_view_name": "LayoutView",
            "grid_template_rows": null,
            "right": null,
            "justify_content": null,
            "_view_module": "@jupyter-widgets/base",
            "overflow": null,
            "_model_module_version": "1.2.0",
            "_view_count": null,
            "flex_flow": null,
            "width": null,
            "min_width": null,
            "border": null,
            "align_items": null,
            "bottom": null,
            "_model_module": "@jupyter-widgets/base",
            "top": null,
            "grid_column": null,
            "overflow_y": null,
            "overflow_x": null,
            "grid_auto_flow": null,
            "grid_area": null,
            "grid_template_columns": null,
            "flex": null,
            "_model_name": "LayoutModel",
            "justify_items": null,
            "grid_row": null,
            "max_height": null,
            "align_content": null,
            "visibility": null,
            "align_self": null,
            "height": null,
            "min_height": null,
            "padding": null,
            "grid_auto_rows": null,
            "grid_gap": null,
            "max_width": null,
            "order": null,
            "_view_module_version": "1.2.0",
            "grid_template_areas": null,
            "object_position": null,
            "object_fit": null,
            "grid_auto_columns": null,
            "margin": null,
            "display": null,
            "left": null
          }
        },
        "b58849f295b74ca68597f5c8b8008a18": {
          "model_module": "@jupyter-widgets/controls",
          "model_name": "FloatProgressModel",
          "state": {
            "_view_name": "ProgressView",
            "style": "IPY_MODEL_75b2f04f4d8e4e98a01780ab1e442c64",
            "_dom_classes": [],
            "description": "Downloading: 100%",
            "_model_name": "FloatProgressModel",
            "bar_style": "success",
            "max": 29,
            "_view_module": "@jupyter-widgets/controls",
            "_model_module_version": "1.5.0",
            "value": 29,
            "_view_count": null,
            "_view_module_version": "1.5.0",
            "orientation": "horizontal",
            "min": 0,
            "description_tooltip": null,
            "_model_module": "@jupyter-widgets/controls",
            "layout": "IPY_MODEL_b264f12393174ac8ab45d18c2bab2248"
          }
        },
        "1caf82835fb54b558f6673e20a5bc760": {
          "model_module": "@jupyter-widgets/controls",
          "model_name": "HTMLModel",
          "state": {
            "_view_name": "HTMLView",
            "style": "IPY_MODEL_e22bf368fa8943248b9509e5a68df019",
            "_dom_classes": [],
            "description": "",
            "_model_name": "HTMLModel",
            "placeholder": "​",
            "_view_module": "@jupyter-widgets/controls",
            "_model_module_version": "1.5.0",
            "value": " 29.0/29.0 [01:03&lt;00:00, 2.18s/B]",
            "_view_count": null,
            "_view_module_version": "1.5.0",
            "description_tooltip": null,
            "_model_module": "@jupyter-widgets/controls",
            "layout": "IPY_MODEL_7cf2e703ed1a447ab17fdd88475f8e21"
          }
        },
        "75b2f04f4d8e4e98a01780ab1e442c64": {
          "model_module": "@jupyter-widgets/controls",
          "model_name": "ProgressStyleModel",
          "state": {
            "_view_name": "StyleView",
            "_model_name": "ProgressStyleModel",
            "description_width": "initial",
            "_view_module": "@jupyter-widgets/base",
            "_model_module_version": "1.5.0",
            "_view_count": null,
            "_view_module_version": "1.2.0",
            "bar_color": null,
            "_model_module": "@jupyter-widgets/controls"
          }
        },
        "b264f12393174ac8ab45d18c2bab2248": {
          "model_module": "@jupyter-widgets/base",
          "model_name": "LayoutModel",
          "state": {
            "_view_name": "LayoutView",
            "grid_template_rows": null,
            "right": null,
            "justify_content": null,
            "_view_module": "@jupyter-widgets/base",
            "overflow": null,
            "_model_module_version": "1.2.0",
            "_view_count": null,
            "flex_flow": null,
            "width": null,
            "min_width": null,
            "border": null,
            "align_items": null,
            "bottom": null,
            "_model_module": "@jupyter-widgets/base",
            "top": null,
            "grid_column": null,
            "overflow_y": null,
            "overflow_x": null,
            "grid_auto_flow": null,
            "grid_area": null,
            "grid_template_columns": null,
            "flex": null,
            "_model_name": "LayoutModel",
            "justify_items": null,
            "grid_row": null,
            "max_height": null,
            "align_content": null,
            "visibility": null,
            "align_self": null,
            "height": null,
            "min_height": null,
            "padding": null,
            "grid_auto_rows": null,
            "grid_gap": null,
            "max_width": null,
            "order": null,
            "_view_module_version": "1.2.0",
            "grid_template_areas": null,
            "object_position": null,
            "object_fit": null,
            "grid_auto_columns": null,
            "margin": null,
            "display": null,
            "left": null
          }
        },
        "e22bf368fa8943248b9509e5a68df019": {
          "model_module": "@jupyter-widgets/controls",
          "model_name": "DescriptionStyleModel",
          "state": {
            "_view_name": "StyleView",
            "_model_name": "DescriptionStyleModel",
            "description_width": "",
            "_view_module": "@jupyter-widgets/base",
            "_model_module_version": "1.5.0",
            "_view_count": null,
            "_view_module_version": "1.2.0",
            "_model_module": "@jupyter-widgets/controls"
          }
        },
        "7cf2e703ed1a447ab17fdd88475f8e21": {
          "model_module": "@jupyter-widgets/base",
          "model_name": "LayoutModel",
          "state": {
            "_view_name": "LayoutView",
            "grid_template_rows": null,
            "right": null,
            "justify_content": null,
            "_view_module": "@jupyter-widgets/base",
            "overflow": null,
            "_model_module_version": "1.2.0",
            "_view_count": null,
            "flex_flow": null,
            "width": null,
            "min_width": null,
            "border": null,
            "align_items": null,
            "bottom": null,
            "_model_module": "@jupyter-widgets/base",
            "top": null,
            "grid_column": null,
            "overflow_y": null,
            "overflow_x": null,
            "grid_auto_flow": null,
            "grid_area": null,
            "grid_template_columns": null,
            "flex": null,
            "_model_name": "LayoutModel",
            "justify_items": null,
            "grid_row": null,
            "max_height": null,
            "align_content": null,
            "visibility": null,
            "align_self": null,
            "height": null,
            "min_height": null,
            "padding": null,
            "grid_auto_rows": null,
            "grid_gap": null,
            "max_width": null,
            "order": null,
            "_view_module_version": "1.2.0",
            "grid_template_areas": null,
            "object_position": null,
            "object_fit": null,
            "grid_auto_columns": null,
            "margin": null,
            "display": null,
            "left": null
          }
        }
      }
    }
  },
  "cells": [
    {
      "cell_type": "code",
      "metadata": {
        "colab": {
          "base_uri": "https://localhost:8080/"
        },
        "id": "7ZhRh7f7s3zu",
        "outputId": "85ca2855-2f36-4a78-ce16-60c75c29f2cf"
      },
      "source": [
        "# install the library\n",
        "!pip install transformers"
      ],
      "execution_count": null,
      "outputs": [
        {
          "output_type": "stream",
          "text": [
            "Collecting transformers\n",
            "\u001b[?25l  Downloading https://files.pythonhosted.org/packages/d8/b2/57495b5309f09fa501866e225c84532d1fd89536ea62406b2181933fb418/transformers-4.5.1-py3-none-any.whl (2.1MB)\n",
            "\u001b[K     |████████████████████████████████| 2.1MB 20.5MB/s \n",
            "\u001b[?25hRequirement already satisfied: requests in /usr/local/lib/python3.7/dist-packages (from transformers) (2.23.0)\n",
            "Requirement already satisfied: numpy>=1.17 in /usr/local/lib/python3.7/dist-packages (from transformers) (1.19.5)\n",
            "Requirement already satisfied: filelock in /usr/local/lib/python3.7/dist-packages (from transformers) (3.0.12)\n",
            "Requirement already satisfied: importlib-metadata; python_version < \"3.8\" in /usr/local/lib/python3.7/dist-packages (from transformers) (3.10.1)\n",
            "Collecting sacremoses\n",
            "\u001b[?25l  Downloading https://files.pythonhosted.org/packages/75/ee/67241dc87f266093c533a2d4d3d69438e57d7a90abb216fa076e7d475d4a/sacremoses-0.0.45-py3-none-any.whl (895kB)\n",
            "\u001b[K     |████████████████████████████████| 901kB 52.9MB/s \n",
            "\u001b[?25hCollecting tokenizers<0.11,>=0.10.1\n",
            "\u001b[?25l  Downloading https://files.pythonhosted.org/packages/ae/04/5b870f26a858552025a62f1649c20d29d2672c02ff3c3fb4c688ca46467a/tokenizers-0.10.2-cp37-cp37m-manylinux2010_x86_64.whl (3.3MB)\n",
            "\u001b[K     |████████████████████████████████| 3.3MB 52.0MB/s \n",
            "\u001b[?25hRequirement already satisfied: regex!=2019.12.17 in /usr/local/lib/python3.7/dist-packages (from transformers) (2019.12.20)\n",
            "Requirement already satisfied: tqdm>=4.27 in /usr/local/lib/python3.7/dist-packages (from transformers) (4.41.1)\n",
            "Requirement already satisfied: packaging in /usr/local/lib/python3.7/dist-packages (from transformers) (20.9)\n",
            "Requirement already satisfied: idna<3,>=2.5 in /usr/local/lib/python3.7/dist-packages (from requests->transformers) (2.10)\n",
            "Requirement already satisfied: chardet<4,>=3.0.2 in /usr/local/lib/python3.7/dist-packages (from requests->transformers) (3.0.4)\n",
            "Requirement already satisfied: urllib3!=1.25.0,!=1.25.1,<1.26,>=1.21.1 in /usr/local/lib/python3.7/dist-packages (from requests->transformers) (1.24.3)\n",
            "Requirement already satisfied: certifi>=2017.4.17 in /usr/local/lib/python3.7/dist-packages (from requests->transformers) (2020.12.5)\n",
            "Requirement already satisfied: typing-extensions>=3.6.4; python_version < \"3.8\" in /usr/local/lib/python3.7/dist-packages (from importlib-metadata; python_version < \"3.8\"->transformers) (3.7.4.3)\n",
            "Requirement already satisfied: zipp>=0.5 in /usr/local/lib/python3.7/dist-packages (from importlib-metadata; python_version < \"3.8\"->transformers) (3.4.1)\n",
            "Requirement already satisfied: six in /usr/local/lib/python3.7/dist-packages (from sacremoses->transformers) (1.15.0)\n",
            "Requirement already satisfied: click in /usr/local/lib/python3.7/dist-packages (from sacremoses->transformers) (7.1.2)\n",
            "Requirement already satisfied: joblib in /usr/local/lib/python3.7/dist-packages (from sacremoses->transformers) (1.0.1)\n",
            "Requirement already satisfied: pyparsing>=2.0.2 in /usr/local/lib/python3.7/dist-packages (from packaging->transformers) (2.4.7)\n",
            "Installing collected packages: sacremoses, tokenizers, transformers\n",
            "Successfully installed sacremoses-0.0.45 tokenizers-0.10.2 transformers-4.5.1\n"
          ],
          "name": "stdout"
        }
      ]
    },
    {
      "cell_type": "code",
      "metadata": {
        "id": "B37UDFS_uEp3"
      },
      "source": [
        "# import packages\n",
        "import torch\n",
        "from transformers import AutoModel, AutoTokenizer, BertTokenizer"
      ],
      "execution_count": null,
      "outputs": []
    },
    {
      "cell_type": "markdown",
      "metadata": {
        "id": "iLSCrSUvuiM6"
      },
      "source": [
        "set gradient calculation off in context-manager.[more about gradient decsent from pytorch perspective](https://pytorch.org/tutorials/beginner/blitz/autograd_tutorial.html)"
      ]
    },
    {
      "cell_type": "code",
      "metadata": {
        "colab": {
          "base_uri": "https://localhost:8080/"
        },
        "id": "ortUgi2CuTr3",
        "outputId": "bae57b66-aae9-4c2a-f993-292311d3d22b"
      },
      "source": [
        "torch.set_grad_enabled(False)"
      ],
      "execution_count": null,
      "outputs": [
        {
          "output_type": "execute_result",
          "data": {
            "text/plain": [
              "<torch.autograd.grad_mode.set_grad_enabled at 0x7f58c20e3f10>"
            ]
          },
          "metadata": {
            "tags": []
          },
          "execution_count": 3
        }
      ]
    },
    {
      "cell_type": "code",
      "metadata": {
        "colab": {
          "base_uri": "https://localhost:8080/",
          "height": 262,
          "referenced_widgets": [
            "050f655350bd440e9bc6381ccb2ec9ab",
            "505434aee0a4426885fa179faf67c5ee",
            "b822623381514e02849165139c6b8d41",
            "5812f14f242d4197a2f2d25c469ad0cd",
            "fe7f9cc22ec54761bbc4c192799ddaf0",
            "dd42c22abf5742d3bb42771d76809014",
            "d1e1e6e84bb64aeaa352fb5246017083",
            "9ab4b7ac9abb43d49d5def45dc1e7488",
            "61cc384b98f443e9923ddffec2b39b2d",
            "f7b5655ada2649d899accd1d543b6cb0",
            "b9d03efa453543e1a84d85ae56ea8beb",
            "8ba6c8d91ec8487fb2151341c35fc265",
            "d4f557f95fc74a848e408c7516c7a620",
            "4476c090c5fb4488af3ca8205e8dbb90",
            "ad01afd3f75f445387f610bbbf5d76da",
            "0e9bfa0a8c474494ad81ac8fc00040bc",
            "3d2009e8a59d435c975ff53ee4253cbe",
            "48447662fa0543679573601622daa0bf",
            "9564bd48751746b28c7ef76a2b54e981",
            "9fe77f8a0199442e9f510d73dbd76f91",
            "2611c93afb86452185304cad7624e87a",
            "216216747a8a4f4781092a1bf2ce0630",
            "1d5b83e366724ff8b4bb82d3987c07fa",
            "eb195b9eae2c4af08f89c48638bde815",
            "dfd26bdbf70b4c9393224e0edf423e5f",
            "2415e25b0d964d16a18c4e80ee2c7163",
            "ec0d54e64d014958ab8db7c1325670e0",
            "5d3d72725f384de2ad797e664d85a818",
            "e9d02b060c6c4f209b121198f636b123",
            "df18d37c31b4467a8274d659e52156c9",
            "1e476b43e21545969f4c06f18cdf6c3e",
            "c385cc30fe824e3784c41a02e19af18b",
            "b75ef78a430a479c8777329b425b7bbb",
            "e6b455c934a94f759a2f55eef4aea686",
            "b58849f295b74ca68597f5c8b8008a18",
            "1caf82835fb54b558f6673e20a5bc760",
            "75b2f04f4d8e4e98a01780ab1e442c64",
            "b264f12393174ac8ab45d18c2bab2248",
            "e22bf368fa8943248b9509e5a68df019",
            "7cf2e703ed1a447ab17fdd88475f8e21"
          ]
        },
        "id": "7SqcMjchuZQ7",
        "outputId": "777207c9-069d-4c0b-d3b8-3b7a2c1157b8"
      },
      "source": [
        "# apply a pretrained bert model\n",
        "# initialize the model\n",
        "\n",
        "model = AutoModel.from_pretrained('bert-base-cased')\n",
        "\n",
        "# set up tokenizers that will let us map text input to a sequence of integers, so that the model can manipulate with them. \n",
        "# initialize the tokenizer\n",
        "\n",
        "tokenizer = AutoTokenizer.from_pretrained('bert-base-cased')"
      ],
      "execution_count": null,
      "outputs": [
        {
          "output_type": "display_data",
          "data": {
            "application/vnd.jupyter.widget-view+json": {
              "model_id": "050f655350bd440e9bc6381ccb2ec9ab",
              "version_minor": 0,
              "version_major": 2
            },
            "text/plain": [
              "HBox(children=(FloatProgress(value=0.0, description='Downloading', max=433.0, style=ProgressStyle(description_…"
            ]
          },
          "metadata": {
            "tags": []
          }
        },
        {
          "output_type": "stream",
          "text": [
            "\n"
          ],
          "name": "stdout"
        },
        {
          "output_type": "display_data",
          "data": {
            "application/vnd.jupyter.widget-view+json": {
              "model_id": "61cc384b98f443e9923ddffec2b39b2d",
              "version_minor": 0,
              "version_major": 2
            },
            "text/plain": [
              "HBox(children=(FloatProgress(value=0.0, description='Downloading', max=435779157.0, style=ProgressStyle(descri…"
            ]
          },
          "metadata": {
            "tags": []
          }
        },
        {
          "output_type": "stream",
          "text": [
            "\n"
          ],
          "name": "stdout"
        },
        {
          "output_type": "display_data",
          "data": {
            "application/vnd.jupyter.widget-view+json": {
              "model_id": "3d2009e8a59d435c975ff53ee4253cbe",
              "version_minor": 0,
              "version_major": 2
            },
            "text/plain": [
              "HBox(children=(FloatProgress(value=0.0, description='Downloading', max=213450.0, style=ProgressStyle(descripti…"
            ]
          },
          "metadata": {
            "tags": []
          }
        },
        {
          "output_type": "stream",
          "text": [
            "\n"
          ],
          "name": "stdout"
        },
        {
          "output_type": "display_data",
          "data": {
            "application/vnd.jupyter.widget-view+json": {
              "model_id": "dfd26bdbf70b4c9393224e0edf423e5f",
              "version_minor": 0,
              "version_major": 2
            },
            "text/plain": [
              "HBox(children=(FloatProgress(value=0.0, description='Downloading', max=435797.0, style=ProgressStyle(descripti…"
            ]
          },
          "metadata": {
            "tags": []
          }
        },
        {
          "output_type": "stream",
          "text": [
            "\n"
          ],
          "name": "stdout"
        },
        {
          "output_type": "display_data",
          "data": {
            "application/vnd.jupyter.widget-view+json": {
              "model_id": "b75ef78a430a479c8777329b425b7bbb",
              "version_minor": 0,
              "version_major": 2
            },
            "text/plain": [
              "HBox(children=(FloatProgress(value=0.0, description='Downloading', max=29.0, style=ProgressStyle(description_w…"
            ]
          },
          "metadata": {
            "tags": []
          }
        },
        {
          "output_type": "stream",
          "text": [
            "\n"
          ],
          "name": "stdout"
        }
      ]
    },
    {
      "cell_type": "code",
      "metadata": {
        "id": "Q3QU57MnzfM5"
      },
      "source": [
        "# ask the tokenizer to return a pytorch type tensor\n",
        "\n",
        "tokens_pt = tokenizer('text input example here', return_tensors='pt')"
      ],
      "execution_count": null,
      "outputs": []
    },
    {
      "cell_type": "code",
      "metadata": {
        "colab": {
          "base_uri": "https://localhost:8080/"
        },
        "id": "sBlaOiw50Pk-",
        "outputId": "055cb284-403c-4657-a49f-a3d200fac0bc"
      },
      "source": [
        "# inspect the variable\n",
        "\n",
        "tokens_pt"
      ],
      "execution_count": null,
      "outputs": [
        {
          "output_type": "execute_result",
          "data": {
            "text/plain": [
              "{'input_ids': tensor([[ 101, 3087, 7758, 1859, 1303,  102]]), 'token_type_ids': tensor([[0, 0, 0, 0, 0, 0]]), 'attention_mask': tensor([[1, 1, 1, 1, 1, 1]])}"
            ]
          },
          "metadata": {
            "tags": []
          },
          "execution_count": 7
        }
      ]
    },
    {
      "cell_type": "markdown",
      "metadata": {
        "id": "iWAG__BK02Zn"
      },
      "source": [
        "input_ids: tokenized text inputs, also beginning and end of the string.\n",
        "\n",
        "token_type_ids: map every token to their corresponding segment.\n",
        "\n",
        "attention_mask: used for masking mechanism.\n",
        "\n"
      ]
    },
    {
      "cell_type": "code",
      "metadata": {
        "id": "6TlQuJ1F13DK"
      },
      "source": [
        "# feed the tensor to the model created\n",
        "\n",
        "output = model(**tokens_pt)"
      ],
      "execution_count": null,
      "outputs": []
    },
    {
      "cell_type": "code",
      "metadata": {
        "colab": {
          "base_uri": "https://localhost:8080/"
        },
        "id": "vWgto8TN2JQv",
        "outputId": "f6092324-7681-44f3-f90f-483900a2f996"
      },
      "source": [
        "# inspect the output tensor 'last_hidden_state'\n",
        "\n",
        "output.last_hidden_state"
      ],
      "execution_count": null,
      "outputs": [
        {
          "output_type": "execute_result",
          "data": {
            "text/plain": [
              "tensor([[[ 0.2156, -0.0028,  0.3592,  ...,  0.1299,  0.4936,  0.5782],\n",
              "         [ 0.0879, -0.0520,  0.4663,  ...,  0.0022,  0.3878,  0.7273],\n",
              "         [ 0.2973,  0.1926,  0.1119,  ...,  0.2808,  0.0537,  0.7051],\n",
              "         [ 0.2185,  0.0711,  0.1865,  ...,  0.3129, -0.0850,  0.5330],\n",
              "         [ 0.4345,  0.0094,  0.3702,  ...,  0.2957,  0.8259,  0.2300],\n",
              "         [ 0.3789,  0.7589, -0.0261,  ..., -0.0082,  0.9710,  0.4226]]])"
            ]
          },
          "metadata": {
            "tags": []
          },
          "execution_count": 10
        }
      ]
    },
    {
      "cell_type": "code",
      "metadata": {
        "colab": {
          "base_uri": "https://localhost:8080/"
        },
        "id": "l_vuxVhk3nE3",
        "outputId": "762163d3-ec32-4bb5-9fb0-931b133e8b57"
      },
      "source": [
        "output.last_hidden_state.shape"
      ],
      "execution_count": null,
      "outputs": [
        {
          "output_type": "execute_result",
          "data": {
            "text/plain": [
              "torch.Size([1, 6, 768])"
            ]
          },
          "metadata": {
            "tags": []
          },
          "execution_count": 12
        }
      ]
    },
    {
      "cell_type": "markdown",
      "metadata": {
        "id": "AXMBk0Gf35vp"
      },
      "source": [
        "the above tensor shape tells us that for every token in the input, the model has generated a representation (768 elements in 1 list, and there are 6 lists in total). this token based representation is useful for tasks that require token-level operation, such as question answering."
      ]
    },
    {
      "cell_type": "code",
      "metadata": {
        "colab": {
          "base_uri": "https://localhost:8080/"
        },
        "id": "Cx7ehGl722J4",
        "outputId": "f55f0d28-3c05-40f7-bc06-adfb4ff1a932"
      },
      "source": [
        "output.pooler_output"
      ],
      "execution_count": null,
      "outputs": [
        {
          "output_type": "execute_result",
          "data": {
            "text/plain": [
              "tensor([[-0.7490,  0.5348,  0.9999, -0.9950,  0.9683,  0.7019,  0.9819, -0.9204,\n",
              "         -0.9736, -0.7417,  0.9847,  0.9987, -0.9906, -0.9999,  0.3985, -0.9665,\n",
              "          0.9907, -0.6191, -1.0000, -0.0430, -0.4853, -0.9999,  0.2182,  0.9104,\n",
              "          0.9724,  0.0028,  0.9898,  1.0000,  0.8888,  0.3369,  0.3485, -0.9940,\n",
              "          0.5771, -0.9995,  0.2940, -0.0457,  0.4327, -0.3162,  0.7336, -0.9058,\n",
              "         -0.8086,  0.0375, -0.0352, -0.5316,  0.6694,  0.4234,  0.2938, -0.0670,\n",
              "         -0.1897,  1.0000, -0.9688,  1.0000, -0.9741,  0.9992,  0.9960,  0.5325,\n",
              "          0.9963,  0.2593, -0.9890,  0.4152,  0.9753,  0.1195,  0.9297, -0.1981,\n",
              "         -0.3970, -0.5205, -0.7460,  0.2381, -0.6901,  0.6053,  0.2539,  0.3921,\n",
              "          0.9821, -0.9466, -0.0156, -0.9524,  0.6298, -1.0000,  0.9620,  1.0000,\n",
              "          0.0437, -0.9997,  0.9951, -0.3418, -0.0544, -0.2435, -0.9942, -0.9996,\n",
              "          0.0773, -0.5973,  0.7423, -0.9901,  0.4142, -0.6553,  1.0000, -0.7284,\n",
              "         -0.3468,  0.4330,  0.8909, -0.0859, -0.8536,  0.8594,  0.9927, -0.9707,\n",
              "          0.9936,  0.0081, -0.9594, -0.6505,  0.0995,  0.2402,  0.9880, -0.9914,\n",
              "         -0.7788,  0.2309,  0.9422, -0.8420,  0.9875,  0.4182, -0.3082,  1.0000,\n",
              "         -0.2128,  0.8918,  0.9987,  0.4639, -0.4787, -0.2889, -0.3356,  0.5891,\n",
              "         -0.0909, -0.6590,  0.8048, -0.9936, -0.9896,  0.9997, -0.2442,  1.0000,\n",
              "         -0.9995,  0.9711, -1.0000, -0.3981, -0.1452, -0.0405, -0.9514,  0.3934,\n",
              "          0.9910,  0.1785, -0.8177, -0.0944,  0.1710, -0.4187,  0.7408,  0.8812,\n",
              "         -0.9667,  0.9999,  0.9865,  0.9214,  0.8994,  0.3450, -0.9004,  0.4058,\n",
              "          0.9825, -0.9995,  0.3482, -0.9729,  0.9997,  0.9831,  0.5332, -0.9726,\n",
              "          0.9999,  0.0715,  0.4206, -0.0029, -0.4174, -0.9935,  0.5066,  0.4718,\n",
              "          0.8942,  0.9999, -0.9917,  0.9999,  0.9975, -0.4659,  0.8889,  0.9896,\n",
              "         -0.9968, -0.9764, -0.9933,  0.5368, -0.0461,  0.5160,  0.1581,  0.9606,\n",
              "          0.9914,  0.6841, -0.9990, -0.3703,  0.9743, -0.2523,  1.0000,  0.3866,\n",
              "         -0.9999, -0.4726,  0.7854,  0.8995, -0.3748,  0.9683, -0.2294,  0.1908,\n",
              "          0.9293, -0.9999,  0.9838,  0.0365,  0.4381,  0.8924,  0.9904, -0.5418,\n",
              "         -0.2260,  0.3226, -0.4570,  0.9999, -0.9997, -0.2599,  0.5872, -0.9979,\n",
              "         -0.9983,  0.9729, -0.1127, -0.2834, -0.2726, -0.5817,  0.3895,  0.6823,\n",
              "          0.9923, -0.2482,  0.5150, -0.9999, -0.9779, -0.9095, -0.8676,  0.1481,\n",
              "          0.7118, -0.4441, -0.9466, -0.9917,  0.9562,  0.3481, -0.6291, -0.5950,\n",
              "         -0.0489, -0.9907, -0.2867, -0.6591, -0.9994,  0.9997, -0.1643,  0.9845,\n",
              "          0.9660, -0.9960,  0.3337, -0.9916, -0.0353, -0.9999, -0.0242, -0.0441,\n",
              "         -0.0492, -0.0462,  0.9946, -0.9705, -0.6936,  0.5129, -0.9999,  0.9474,\n",
              "         -0.2456,  0.9993,  0.2718,  0.4293,  0.9856,  0.7755, -0.9889, -0.9999,\n",
              "          0.8300,  0.9995, -0.9954, -0.2538,  1.0000, -0.9888, -0.8357, -0.9488,\n",
              "         -0.9953, -0.9998,  0.0425, -0.4072,  0.0845,  0.9788, -0.0646, -0.0409,\n",
              "          0.9960,  0.9987,  0.1409,  0.1537,  0.1596, -0.9876, -0.9998,  0.4870,\n",
              "          0.3348, -1.0000,  0.9999, -0.9915,  0.9999,  0.6813, -0.9653,  0.8774,\n",
              "          0.0287, -0.8759,  0.1519,  0.9999,  0.9749, -0.2293,  0.3017,  0.7580,\n",
              "          0.0171,  0.0212, -0.3601, -0.2348,  0.2785, -0.9452,  0.9675,  0.0507,\n",
              "         -0.9934,  0.9774,  0.1167,  0.8201, -0.4464,  0.9196,  0.9914, -0.2376,\n",
              "          0.1282, -0.1230, -0.9849, -0.9192,  0.2698, -0.9822,  0.0133,  0.9298,\n",
              "          0.9765, -0.9520,  0.9988, -0.3637,  0.6880, -0.9914,  1.0000, -0.9985,\n",
              "          0.2974,  0.2570, -0.6808,  0.2237,  0.9945,  0.9240,  0.8960, -0.9004,\n",
              "         -0.5084,  0.8507,  0.9557, -0.9481,  0.2716, -0.9956, -0.0484,  0.9986,\n",
              "          0.9800, -0.1547, -0.6818, -0.9855,  0.9471, -0.7157, -0.7359, -0.1759,\n",
              "         -0.5808,  0.6028,  0.9893, -0.2560,  0.5813,  0.2774, -0.9891,  0.7431,\n",
              "          0.7122,  0.9999, -0.9855, -0.1378,  0.9880, -0.3251, -0.6459,  0.6740,\n",
              "          0.9939, -0.9359, -0.2887, -0.9997,  0.1367, -0.7407,  0.1998,  0.1740,\n",
              "          0.1746, -0.4912,  0.9110, -0.3468,  0.8990, -0.0603,  0.9876,  0.3609,\n",
              "         -0.1230, -0.3844, -0.0712,  0.4771, -0.0253,  0.9821, -0.9602,  1.0000,\n",
              "         -0.5095, -1.0000, -0.9846, -0.3604, -0.9999,  0.1589, -0.9989,  0.9852,\n",
              "          0.7508, -0.9865, -0.9942, -0.9992, -0.9998,  0.2789,  0.3293, -0.2213,\n",
              "         -0.2890,  0.9844,  0.1179,  0.2422, -0.1315, -0.9523,  0.0483, -0.9919,\n",
              "          0.7115, -1.0000, -0.4999,  0.9847, -0.9800, -0.8908, -0.9492, -0.2057,\n",
              "         -0.8889,  0.6717,  0.9842,  0.0749, -0.0777, -0.9999,  0.9906, -0.6700,\n",
              "          0.2081, -0.7605, -0.9877,  0.9999,  0.7376, -0.0773, -0.1599, -0.9996,\n",
              "          0.9387, -0.7927, -0.8107, -0.9861,  0.2415, -0.9673, -0.9999, -0.0753,\n",
              "          0.9853,  0.9980,  0.9848,  0.5403, -0.4025, -0.9569,  0.2336, -1.0000,\n",
              "          0.3598,  0.5950, -0.9869, -0.2035,  0.9915,  0.9832, -0.8166, -0.9582,\n",
              "          0.8015,  0.6161,  0.9758,  0.2568, -0.6316,  0.3539, -0.2170, -0.9933,\n",
              "         -0.9593,  0.9974, -0.9937,  0.9784,  0.9856,  0.9904,  0.0446, -0.1713,\n",
              "         -0.9622, -0.9996, -0.6897,  0.0935, -1.0000,  1.0000, -1.0000,  0.1171,\n",
              "         -0.1118,  0.7531,  0.9877, -0.2140, -0.9999, -0.9999,  0.1052, -0.0815,\n",
              "          0.9927,  0.1127,  0.3493, -0.1130,  0.5197,  0.9984, -0.6003,  0.4638,\n",
              "         -0.9869,  0.9998,  0.6294, -0.9988,  0.9742, -0.9998,  0.7120,  0.9671,\n",
              "          0.9648,  0.9790, -0.9941,  1.0000, -0.9999,  0.9988, -1.0000, -0.9936,\n",
              "          0.9999, -0.9950,  0.0379, -0.9998, -0.9880, -0.1625,  0.1424, -0.7354,\n",
              "          0.9912, -0.9999, -0.9986, -0.0768, -0.6176, -0.1069,  0.9782, -0.2728,\n",
              "          0.9895, -0.0729,  0.9693,  0.3175,  0.9886,  0.9998, -0.5216, -0.4772,\n",
              "         -0.9946,  0.9924, -0.0672,  0.4389,  0.9734, -0.0642, -0.4417,  0.5993,\n",
              "         -0.9980,  0.4709, -0.9252,  0.7405,  0.6284,  0.9013,  0.0737, -0.3027,\n",
              "         -0.1078, -0.9926,  0.4748, -0.9997,  0.9806, -0.8908,  0.1939, -0.5597,\n",
              "          0.6074, -0.9125,  0.9998,  0.9990, -1.0000,  0.1053,  0.9877, -0.2990,\n",
              "          0.9711, -0.9959, -0.0467,  0.9041, -0.7590,  0.9890,  0.2905, -0.2363,\n",
              "          0.9786, -0.9963, -0.7379, -0.8526,  0.1359,  0.4957, -0.9762,  0.2314,\n",
              "          0.9453, -0.1716, -0.9997,  0.6690, -0.9996, -0.2681,  0.9853,  0.1712,\n",
              "          0.9999, -0.5895,  0.0158, -0.0354, -0.9998, -0.9921,  0.2081, -0.3410,\n",
              "         -0.8130,  0.9937,  0.1030,  0.3271, -1.0000,  0.5110,  0.9814,  0.4104,\n",
              "          0.9187, -0.3540, -0.9675, -0.8997, -0.8213,  0.0778,  0.5775, -0.8787,\n",
              "         -0.5082, -0.6713,  1.0000, -0.9985, -0.9451, -0.9945,  0.2662,  0.7437,\n",
              "          0.5003,  0.0842, -0.5725,  0.8239, -0.8232,  0.9979, -0.9952, -0.9965,\n",
              "          0.9999,  0.0546, -0.9608,  0.0013, -0.4980,  0.0837, -0.1564,  0.5918,\n",
              "         -0.6223, -0.1977, -0.9990,  0.3428, -0.5213, -0.9871, -0.6765, -0.3353,\n",
              "         -0.9999,  0.9958,  0.9782,  1.0000, -0.9999,  0.9010,  0.2671,  0.9990,\n",
              "         -0.0324, -0.6044,  0.7422,  0.9998, -0.1312,  0.4279,  0.0553, -0.2109,\n",
              "          0.1323, -0.6339,  0.9816, -0.7863,  0.4269, -0.9873, -1.0000,  1.0000,\n",
              "         -0.2699,  0.9935,  0.3139,  0.1889, -0.8808,  0.9330, -0.9404, -0.9549,\n",
              "         -1.0000,  0.6064, -1.0000, -0.9939,  0.0495,  0.9871, -0.9998, -0.9865,\n",
              "         -0.0766, -1.0000,  0.7353, -0.9620, -0.3809, -0.9902,  0.9868, -0.5566,\n",
              "          0.2807,  0.9802, -0.9660,  0.8059,  0.8066,  0.9542,  0.4160,  0.2327,\n",
              "         -0.6311, -0.9627, -0.7864, -0.9754,  0.4639, -0.9895, -0.8624,  0.9984,\n",
              "          0.9911, -0.9998, -0.9963,  0.9796, -0.2502,  0.9912, -0.7225, -0.9999,\n",
              "         -0.9999,  0.1782, -0.1537,  0.9958, -0.4393,  0.9999,  0.8653,  0.0752,\n",
              "         -0.2242, -0.3375,  0.0819,  0.1129, -0.2449,  1.0000, -0.2581,  0.9884]])"
            ]
          },
          "metadata": {
            "tags": []
          },
          "execution_count": 11
        }
      ]
    },
    {
      "cell_type": "code",
      "metadata": {
        "colab": {
          "base_uri": "https://localhost:8080/"
        },
        "id": "KT2cgopM4uMP",
        "outputId": "b316c935-182c-4def-8196-7be352fb3f1e"
      },
      "source": [
        "output.pooler_output.shape"
      ],
      "execution_count": null,
      "outputs": [
        {
          "output_type": "execute_result",
          "data": {
            "text/plain": [
              "torch.Size([1, 768])"
            ]
          },
          "metadata": {
            "tags": []
          },
          "execution_count": 13
        }
      ]
    },
    {
      "cell_type": "markdown",
      "metadata": {
        "id": "76AjZaju4rfW"
      },
      "source": [
        "the above tensor shape tells us that for the whole input, the model has generated a representation (768 elements in 1 list). this is useful if we need to extract the overall context of the string(sequence) but not on word level. such as sentiment analysis, or information retrieval.\n"
      ]
    },
    {
      "cell_type": "code",
      "metadata": {
        "colab": {
          "base_uri": "https://localhost:8080/"
        },
        "id": "3sytkPyz6XwG",
        "outputId": "e4b375a7-6f86-4a39-b4aa-de27087c1341"
      },
      "source": [
        "from transformers import TFBertModel, BertModel\n",
        "\n",
        "model_pt = BertModel.from_pretrained('bert-base-cased')\n",
        "\n",
        "from transformers import DistilBertModel\n",
        "\n",
        "bert_distil = DistilBertModel.from_pretrained('distilbert-base-cased')\n",
        "input_pt = tokenizer(\n",
        "    'This is a sample input to demonstrate performance of distiled models especially inference time', \n",
        "    return_tensors=\"pt\"\n",
        ")\n",
        "\n",
        "\n",
        "%time _ = bert_distil(input_pt['input_ids'])\n",
        "%time _ = model_pt(input_pt['input_ids'])"
      ],
      "execution_count": null,
      "outputs": [
        {
          "output_type": "stream",
          "text": [
            "CPU times: user 44.1 ms, sys: 0 ns, total: 44.1 ms\n",
            "Wall time: 44.1 ms\n",
            "CPU times: user 87.2 ms, sys: 0 ns, total: 87.2 ms\n",
            "Wall time: 86.9 ms\n"
          ],
          "name": "stdout"
        }
      ]
    }
  ]
}